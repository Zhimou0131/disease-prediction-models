{
 "cells": [
  {
   "cell_type": "code",
   "execution_count": 1,
   "metadata": {},
   "outputs": [],
   "source": [
    "import pandas as pd\n",
    "from sklearn.model_selection import cross_val_score\n",
    "from sklearn.ensemble import RandomForestClassifier\n",
    "from sklearn.model_selection import train_test_split\n",
    "from sklearn.svm import SVC\n",
    "from sklearn.neighbors import KNeighborsClassifier\n",
    "from sklearn.preprocessing import StandardScaler\n",
    "from sklearn.pipeline import Pipeline\n",
    "from sklearn.linear_model import LogisticRegression"
   ]
  },
  {
   "cell_type": "code",
   "execution_count": 2,
   "metadata": {},
   "outputs": [],
   "source": [
    "df = pd.read_csv('diabetes_binary_5050split_health_indicators_BRFSS2015.csv')\n",
    "X = df[['HighBP', 'HighChol', 'BMI', 'HeartDiseaseorAttack', 'GenHlth', 'PhysHlth', 'DiffWalk', 'Age', 'Income']]\n",
    "y = df['Diabetes_binary']  "
   ]
  },
  {
   "cell_type": "code",
   "execution_count": 4,
   "metadata": {},
   "outputs": [
    {
     "name": "stdout",
     "output_type": "stream",
     "text": [
      "每个折的准确度: [0.73590777 0.74602164 0.74225492 0.74855001 0.74904513]\n",
      "平均准确度: 0.7443558929209917\n"
     ]
    }
   ],
   "source": [
    "pipeline = Pipeline([\n",
    "    ('scaler', StandardScaler()),\n",
    "    ('logReg', LogisticRegression(solver='lbfgs', max_iter=1000)) \n",
    "])\n",
    "scores = cross_val_score(pipeline, X, y, cv=5, scoring='accuracy')\n",
    "\n",
    "\n",
    "print(\"每个折的准确度:\", scores)\n",
    "print(\"平均准确度:\", scores.mean())"
   ]
  },
  {
   "cell_type": "code",
   "execution_count": 6,
   "metadata": {},
   "outputs": [
    {
     "ename": "",
     "evalue": "",
     "output_type": "error",
     "traceback": [
      "\u001b[1;31mThe Kernel crashed while executing code in the the current cell or a previous cell. Please review the code in the cell(s) to identify a possible cause of the failure. Click <a href='https://aka.ms/vscodeJupyterKernelCrash'>here</a> for more info. View Jupyter <a href='command:jupyter.viewOutput'>log</a> for further details."
     ]
    }
   ],
   "source": [
    "# svm_pipeline = Pipeline([\n",
    "#     ('scaler', StandardScaler()),\n",
    "#     ('svm', SVC(random_state=42))\n",
    "# ])\n",
    "\n",
    "\n",
    "# svm_scores = cross_val_score(svm_pipeline, X, y, cv=5, scoring='accuracy')\n",
    "\n",
    "\n",
    "# print(\"SVM - 每个折的准确度:\", svm_scores)\n",
    "# print(\"SVM - 平均准确度:\", svm_scores.mean())"
   ]
  },
  {
   "cell_type": "code",
   "execution_count": 5,
   "metadata": {},
   "outputs": [
    {
     "name": "stdout",
     "output_type": "stream",
     "text": [
      "KNN - 每个折的准确度: [0.70563689 0.70584907 0.71113312 0.70469656 0.71601358]\n",
      "KNN - 平均准确度: 0.7086658440237541\n"
     ]
    }
   ],
   "source": [
    "knn_pipeline = Pipeline([\n",
    "    ('scaler', StandardScaler()),\n",
    "    ('knn', KNeighborsClassifier())\n",
    "])\n",
    "\n",
    "\n",
    "knn_scores = cross_val_score(knn_pipeline, X, y, cv=5, scoring='accuracy')\n",
    "\n",
    "\n",
    "print(\"KNN - 每个折的准确度:\", knn_scores)\n",
    "print(\"KNN - 平均准确度:\", knn_scores.mean())"
   ]
  },
  {
   "cell_type": "code",
   "execution_count": 3,
   "metadata": {},
   "outputs": [
    {
     "name": "stdout",
     "output_type": "stream",
     "text": [
      "每个折的准确度: [0.70641488 0.70903176 0.71834772 0.70865752 0.7151648 ]\n",
      "平均准确度: 0.7115233350313063\n"
     ]
    }
   ],
   "source": [
    "\n",
    "rf_model = RandomForestClassifier(random_state=45)\n",
    "\n",
    "\n",
    "scores = cross_val_score(rf_model, X, y, cv=5, scoring='accuracy')\n",
    "\n",
    "\n",
    "print(\"每个折的准确度:\", scores)\n",
    "print(\"平均准确度:\", scores.mean())\n"
   ]
  }
 ],
 "metadata": {
  "kernelspec": {
   "display_name": "base",
   "language": "python",
   "name": "python3"
  },
  "language_info": {
   "codemirror_mode": {
    "name": "ipython",
    "version": 3
   },
   "file_extension": ".py",
   "mimetype": "text/x-python",
   "name": "python",
   "nbconvert_exporter": "python",
   "pygments_lexer": "ipython3",
   "version": "3.11.5"
  }
 },
 "nbformat": 4,
 "nbformat_minor": 2
}
