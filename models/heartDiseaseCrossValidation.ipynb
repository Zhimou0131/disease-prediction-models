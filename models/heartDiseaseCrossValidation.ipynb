{
 "cells": [
  {
   "cell_type": "code",
   "execution_count": 1,
   "metadata": {},
   "outputs": [],
   "source": [
    "import pandas as pd\n",
    "from sklearn.model_selection import cross_val_score\n",
    "from sklearn.ensemble import RandomForestClassifier\n",
    "from sklearn.model_selection import train_test_split\n",
    "from sklearn.svm import SVC\n",
    "from sklearn.neighbors import KNeighborsClassifier\n",
    "from sklearn.preprocessing import StandardScaler\n",
    "from sklearn.pipeline import Pipeline\n",
    "\n"
   ]
  },
  {
   "cell_type": "code",
   "execution_count": 2,
   "metadata": {},
   "outputs": [],
   "source": [
    "\n",
    "df = pd.read_csv('heart.csv')\n",
    "\n",
    "\n",
    "selected_features = ['age', 'sex', 'cp', 'trestbps', 'thalach', 'exang']\n",
    "X = df[selected_features]\n",
    "y = df['target']\n"
   ]
  },
  {
   "cell_type": "code",
   "execution_count": 3,
   "metadata": {},
   "outputs": [
    {
     "name": "stdout",
     "output_type": "stream",
     "text": [
      "每个折的准确度: [0.63934426 0.73770492 0.72131148 0.81666667 0.76666667]\n",
      "平均准确度: 0.7363387978142077\n"
     ]
    }
   ],
   "source": [
    "\n",
    "rf_model = RandomForestClassifier(random_state=45)\n",
    "\n",
    "\n",
    "scores = cross_val_score(rf_model, X, y, cv=5, scoring='accuracy')\n",
    "\n",
    "\n",
    "print(\"每个折的准确度:\", scores)\n",
    "print(\"平均准确度:\", scores.mean())\n"
   ]
  },
  {
   "cell_type": "code",
   "execution_count": 4,
   "metadata": {},
   "outputs": [
    {
     "name": "stdout",
     "output_type": "stream",
     "text": [
      "SVM - 每个折的准确度: [0.67213115 0.80327869 0.75409836 0.76666667 0.76666667]\n",
      "SVM - 平均准确度: 0.752568306010929\n"
     ]
    }
   ],
   "source": [
    "\n",
    "svm_pipeline = Pipeline([\n",
    "    ('scaler', StandardScaler()),\n",
    "    ('svm', SVC(random_state=42))\n",
    "])\n",
    "\n",
    "\n",
    "svm_scores = cross_val_score(svm_pipeline, X, y, cv=5, scoring='accuracy')\n",
    "\n",
    "\n",
    "print(\"SVM - 每个折的准确度:\", svm_scores)\n",
    "print(\"SVM - 平均准确度:\", svm_scores.mean())\n"
   ]
  },
  {
   "cell_type": "code",
   "execution_count": 5,
   "metadata": {},
   "outputs": [
    {
     "name": "stdout",
     "output_type": "stream",
     "text": [
      "KNN - 每个折的准确度: [0.72131148 0.81967213 0.72131148 0.8        0.76666667]\n",
      "KNN - 平均准确度: 0.765792349726776\n"
     ]
    }
   ],
   "source": [
    "\n",
    "knn_pipeline = Pipeline([\n",
    "    ('scaler', StandardScaler()),\n",
    "    ('knn', KNeighborsClassifier())\n",
    "])\n",
    "\n",
    "\n",
    "knn_scores = cross_val_score(knn_pipeline, X, y, cv=5, scoring='accuracy')\n",
    "\n",
    "\n",
    "print(\"KNN - 每个折的准确度:\", knn_scores)\n",
    "print(\"KNN - 平均准确度:\", knn_scores.mean())\n"
   ]
  }
 ],
 "metadata": {
  "kernelspec": {
   "display_name": "base",
   "language": "python",
   "name": "python3"
  },
  "language_info": {
   "codemirror_mode": {
    "name": "ipython",
    "version": 3
   },
   "file_extension": ".py",
   "mimetype": "text/x-python",
   "name": "python",
   "nbconvert_exporter": "python",
   "pygments_lexer": "ipython3",
   "version": "3.11.5"
  }
 },
 "nbformat": 4,
 "nbformat_minor": 2
}
